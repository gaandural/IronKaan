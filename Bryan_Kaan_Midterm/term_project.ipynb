{
 "cells": [
  {
   "cell_type": "code",
   "execution_count": 7,
   "id": "797309f1",
   "metadata": {},
   "outputs": [],
   "source": [
    "import numpy as np\n",
    "import pandas as pd\n",
    "import scipy.stats as stats\n",
    "import matplotlib.pyplot as plt\n",
    "import seaborn as sns\n",
    "\n",
    "%matplotlib inline"
   ]
  },
  {
   "cell_type": "code",
   "execution_count": 10,
   "id": "f77b62c8",
   "metadata": {},
   "outputs": [
    {
     "name": "stdout",
     "output_type": "stream",
     "text": [
      "<class 'pandas.core.frame.DataFrame'>\n",
      "RangeIndex: 1200 entries, 0 to 1199\n",
      "Data columns (total 20 columns):\n",
      " #   Column          Non-Null Count  Dtype \n",
      "---  ------          --------------  ----- \n",
      " 0   Year            1200 non-null   int64 \n",
      " 1   District        1200 non-null   object\n",
      " 2   Code            1200 non-null   int64 \n",
      " 3   Location        1200 non-null   object\n",
      " 4   Robbery         1200 non-null   int64 \n",
      " 5   Street_robbery  1200 non-null   int64 \n",
      " 6   Injury          1200 non-null   int64 \n",
      " 7   Agg_assault     1200 non-null   int64 \n",
      " 8   Threat          1200 non-null   int64 \n",
      " 9   Theft           1200 non-null   int64 \n",
      " 10  Car             1200 non-null   int64 \n",
      " 11  From_car        1200 non-null   int64 \n",
      " 12  Bike            1200 non-null   int64 \n",
      " 13  Burglary        1200 non-null   int64 \n",
      " 14  Fire            1200 non-null   int64 \n",
      " 15  Arson           1200 non-null   int64 \n",
      " 16  Damage          1200 non-null   int64 \n",
      " 17  Graffiti        1200 non-null   int64 \n",
      " 18  Drugs           1200 non-null   int64 \n",
      " 19  Local           1200 non-null   int64 \n",
      "dtypes: int64(18), object(2)\n",
      "memory usage: 187.6+ KB\n"
     ]
    }
   ],
   "source": [
    "df = pd.read_csv(\"file:///Users/kaan/Desktop/Berlin_crimes.csv\")\n",
    "df.info()\n"
   ]
  },
  {
   "cell_type": "code",
   "execution_count": 14,
   "id": "7c0c77e0",
   "metadata": {},
   "outputs": [
    {
     "name": "stdout",
     "output_type": "stream",
     "text": [
      "Year\n",
      "2012    1253\n",
      "2013    1096\n",
      "2014    1014\n",
      "2015    1040\n",
      "2016     976\n",
      "2017     763\n",
      "2018     733\n",
      "2019     707\n",
      "Name: Robbery, dtype: int64\n"
     ]
    }
   ],
   "source": [
    "df['City_population'] = np.nan\n",
    "df.loc[df['Year'] == 2012, 'City_population'] = 3476000\n",
    "df.loc[df['Year'] == 2013, 'City_population'] = 3488000\n",
    "df.loc[df['Year'] == 2014, 'City_population'] = 3501000\n",
    "df.loc[df['Year'] == 2015, 'City_population'] = 3514000\n",
    "df.loc[df['Year'] == 2016, 'City_population'] = 3526000\n",
    "df.loc[df['Year'] == 2017, 'City_population'] = 3539000\n",
    "df.loc[df['Year'] == 2018, 'City_population'] = 3552000\n",
    "df.loc[df['Year'] == 2019, 'City_population'] = 3557000\n",
    "df['City_population'] = df['City_population'].astype(int)\n",
    "df\n",
    "\n",
    "robbery_counts_per_year = df[df['District'] == 'Mitte'].groupby('Year')['Robbery'].sum()\n",
    "\n",
    "print(robbery_counts_per_year)\n",
    "\n"
   ]
  },
  {
   "cell_type": "code",
   "execution_count": 33,
   "id": "e0731bba",
   "metadata": {},
   "outputs": [
    {
     "name": "stdout",
     "output_type": "stream",
     "text": [
      "['Mitte' 'Friedrichshain-Kreuzberg' 'Pankow' 'Charlottenburg-Wilmersdorf'\n",
      " 'Spandau' 'Steglitz-Zehlendorf' 'Tempelhof-Schöneberg' 'Neukölln'\n",
      " 'Treptow-Köpenick' 'Marzahn-Hellersdorf' 'Lichtenberg' 'Reinickendorf']\n"
     ]
    }
   ],
   "source": [
    "district_names = df[\"District\"].unique()\n",
    "print(district_names)\n"
   ]
  },
  {
   "cell_type": "code",
   "execution_count": 17,
   "id": "e000271e",
   "metadata": {},
   "outputs": [
    {
     "data": {
      "text/plain": [
       "Year\n",
       "2012    1253\n",
       "2013    1096\n",
       "2014    1014\n",
       "2015    1040\n",
       "2016     976\n",
       "2017     763\n",
       "2018     733\n",
       "2019     707\n",
       "Name: Robbery, dtype: int64"
      ]
     },
     "execution_count": 17,
     "metadata": {},
     "output_type": "execute_result"
    }
   ],
   "source": [
    "robbery_counts_mitte = df[df[\"District\"] == \"Mitte\"].groupby([\"Year\"])[\"Robbery\"].sum()\n",
    "\n",
    "robbery_counts_mitte"
   ]
  },
  {
   "cell_type": "code",
   "execution_count": 19,
   "id": "41ff48b7",
   "metadata": {},
   "outputs": [
    {
     "data": {
      "text/plain": [
       "Year  District                  \n",
       "2012  Charlottenburg-Wilmersdorf     643\n",
       "      Friedrichshain-Kreuzberg       868\n",
       "      Lichtenberg                    260\n",
       "      Marzahn-Hellersdorf            331\n",
       "      Mitte                         1253\n",
       "                                    ... \n",
       "2019  Reinickendorf                  236\n",
       "      Spandau                        211\n",
       "      Steglitz-Zehlendorf            217\n",
       "      Tempelhof-Schöneberg           352\n",
       "      Treptow-Köpenick               169\n",
       "Name: Robbery, Length: 96, dtype: int64"
      ]
     },
     "execution_count": 19,
     "metadata": {},
     "output_type": "execute_result"
    }
   ],
   "source": [
    "robbery_counts_total = df.groupby([\"Year\", \"District\"])[\"Robbery\"].sum()\n",
    "robbery_counts_total"
   ]
  },
  {
   "cell_type": "code",
   "execution_count": 34,
   "id": "2348768e",
   "metadata": {
    "scrolled": true
   },
   "outputs": [
    {
     "data": {
      "image/png": "[encoded data removed]",
      "text/plain": [
       "<Figure size 640x480 with 1 Axes>"
      ]
     },
     "metadata": {},
     "output_type": "display_data"
    }
   ],
   "source": [
    "import matplotlib.pyplot as plt\n",
    "\n",
    "# Filter the data for Kreuzberg district\n",
    "kreuzberg_data = df[df[\"District\"] == \"Friedrichshain-Kreuzberg\"]\n",
    "\n",
    "# Group the data by year and calculate the total crime counts\n",
    "crime_counts_by_year = kreuzberg_data.groupby(\"Year\").size()\n",
    "\n",
    "if not crime_counts_by_year.empty:\n",
    "    # Plotting the data\n",
    "    plt.plot(crime_counts_by_year.index, crime_counts_by_year.values, marker=\"o\")\n",
    "    plt.xlabel(\"Year\")\n",
    "    plt.ylabel(\"Total Crime Counts\")\n",
    "    plt.title(\"Total Crime Counts in Kreuzberg by Year\")\n",
    "    plt.show()\n",
    "else:\n",
    "    print(\"No data available for plotting.\")\n"
   ]
  },
  {
   "cell_type": "code",
   "execution_count": 11,
   "id": "c7339e3e",
   "metadata": {},
   "outputs": [
    {
     "ename": "KeyError",
     "evalue": "'Crime_Type'",
     "output_type": "error",
     "traceback": [
      "\u001b[0;31m---------------------------------------------------------------------------\u001b[0m",
      "\u001b[0;31mKeyError\u001b[0m                                  Traceback (most recent call last)",
      "File \u001b[0;32m~/anaconda3/lib/python3.10/site-packages/pandas/core/indexes/base.py:3802\u001b[0m, in \u001b[0;36mIndex.get_loc\u001b[0;34m(self, key, method, tolerance)\u001b[0m\n\u001b[1;32m   3801\u001b[0m \u001b[38;5;28;01mtry\u001b[39;00m:\n\u001b[0;32m-> 3802\u001b[0m     \u001b[38;5;28;01mreturn\u001b[39;00m \u001b[38;5;28;43mself\u001b[39;49m\u001b[38;5;241;43m.\u001b[39;49m\u001b[43m_engine\u001b[49m\u001b[38;5;241;43m.\u001b[39;49m\u001b[43mget_loc\u001b[49m\u001b[43m(\u001b[49m\u001b[43mcasted_key\u001b[49m\u001b[43m)\u001b[49m\n\u001b[1;32m   3803\u001b[0m \u001b[38;5;28;01mexcept\u001b[39;00m \u001b[38;5;167;01mKeyError\u001b[39;00m \u001b[38;5;28;01mas\u001b[39;00m err:\n",
      "File \u001b[0;32m~/anaconda3/lib/python3.10/site-packages/pandas/_libs/index.pyx:138\u001b[0m, in \u001b[0;36mpandas._libs.index.IndexEngine.get_loc\u001b[0;34m()\u001b[0m\n",
      "File \u001b[0;32m~/anaconda3/lib/python3.10/site-packages/pandas/_libs/index.pyx:165\u001b[0m, in \u001b[0;36mpandas._libs.index.IndexEngine.get_loc\u001b[0;34m()\u001b[0m\n",
      "File \u001b[0;32mpandas/_libs/hashtable_class_helper.pxi:5745\u001b[0m, in \u001b[0;36mpandas._libs.hashtable.PyObjectHashTable.get_item\u001b[0;34m()\u001b[0m\n",
      "File \u001b[0;32mpandas/_libs/hashtable_class_helper.pxi:5753\u001b[0m, in \u001b[0;36mpandas._libs.hashtable.PyObjectHashTable.get_item\u001b[0;34m()\u001b[0m\n",
      "\u001b[0;31mKeyError\u001b[0m: 'Crime_Type'",
      "\nThe above exception was the direct cause of the following exception:\n",
      "\u001b[0;31mKeyError\u001b[0m                                  Traceback (most recent call last)",
      "Cell \u001b[0;32mIn[11], line 1\u001b[0m\n\u001b[0;32m----> 1\u001b[0m df[\u001b[38;5;124m\"\u001b[39m\u001b[38;5;124mCrime_Category\u001b[39m\u001b[38;5;124m\"\u001b[39m] \u001b[38;5;241m=\u001b[39m \u001b[43mdf\u001b[49m\u001b[43m[\u001b[49m\u001b[38;5;124;43m\"\u001b[39;49m\u001b[38;5;124;43mCrime_Type\u001b[39;49m\u001b[38;5;124;43m\"\u001b[39;49m\u001b[43m]\u001b[49m\u001b[38;5;241m.\u001b[39mapply(\u001b[38;5;28;01mlambda\u001b[39;00m x: \u001b[38;5;124m\"\u001b[39m\u001b[38;5;124mDrug-related\u001b[39m\u001b[38;5;124m\"\u001b[39m \u001b[38;5;28;01mif\u001b[39;00m \u001b[38;5;124m\"\u001b[39m\u001b[38;5;124mdrugs\u001b[39m\u001b[38;5;124m\"\u001b[39m \u001b[38;5;129;01min\u001b[39;00m x\u001b[38;5;241m.\u001b[39mlower() \u001b[38;5;28;01melse\u001b[39;00m \u001b[38;5;124m\"\u001b[39m\u001b[38;5;124mOther\u001b[39m\u001b[38;5;124m\"\u001b[39m)\n",
      "File \u001b[0;32m~/anaconda3/lib/python3.10/site-packages/pandas/core/frame.py:3807\u001b[0m, in \u001b[0;36mDataFrame.__getitem__\u001b[0;34m(self, key)\u001b[0m\n\u001b[1;32m   3805\u001b[0m \u001b[38;5;28;01mif\u001b[39;00m \u001b[38;5;28mself\u001b[39m\u001b[38;5;241m.\u001b[39mcolumns\u001b[38;5;241m.\u001b[39mnlevels \u001b[38;5;241m>\u001b[39m \u001b[38;5;241m1\u001b[39m:\n\u001b[1;32m   3806\u001b[0m     \u001b[38;5;28;01mreturn\u001b[39;00m \u001b[38;5;28mself\u001b[39m\u001b[38;5;241m.\u001b[39m_getitem_multilevel(key)\n\u001b[0;32m-> 3807\u001b[0m indexer \u001b[38;5;241m=\u001b[39m \u001b[38;5;28;43mself\u001b[39;49m\u001b[38;5;241;43m.\u001b[39;49m\u001b[43mcolumns\u001b[49m\u001b[38;5;241;43m.\u001b[39;49m\u001b[43mget_loc\u001b[49m\u001b[43m(\u001b[49m\u001b[43mkey\u001b[49m\u001b[43m)\u001b[49m\n\u001b[1;32m   3808\u001b[0m \u001b[38;5;28;01mif\u001b[39;00m is_integer(indexer):\n\u001b[1;32m   3809\u001b[0m     indexer \u001b[38;5;241m=\u001b[39m [indexer]\n",
      "File \u001b[0;32m~/anaconda3/lib/python3.10/site-packages/pandas/core/indexes/base.py:3804\u001b[0m, in \u001b[0;36mIndex.get_loc\u001b[0;34m(self, key, method, tolerance)\u001b[0m\n\u001b[1;32m   3802\u001b[0m     \u001b[38;5;28;01mreturn\u001b[39;00m \u001b[38;5;28mself\u001b[39m\u001b[38;5;241m.\u001b[39m_engine\u001b[38;5;241m.\u001b[39mget_loc(casted_key)\n\u001b[1;32m   3803\u001b[0m \u001b[38;5;28;01mexcept\u001b[39;00m \u001b[38;5;167;01mKeyError\u001b[39;00m \u001b[38;5;28;01mas\u001b[39;00m err:\n\u001b[0;32m-> 3804\u001b[0m     \u001b[38;5;28;01mraise\u001b[39;00m \u001b[38;5;167;01mKeyError\u001b[39;00m(key) \u001b[38;5;28;01mfrom\u001b[39;00m \u001b[38;5;21;01merr\u001b[39;00m\n\u001b[1;32m   3805\u001b[0m \u001b[38;5;28;01mexcept\u001b[39;00m \u001b[38;5;167;01mTypeError\u001b[39;00m:\n\u001b[1;32m   3806\u001b[0m     \u001b[38;5;66;03m# If we have a listlike key, _check_indexing_error will raise\u001b[39;00m\n\u001b[1;32m   3807\u001b[0m     \u001b[38;5;66;03m#  InvalidIndexError. Otherwise we fall through and re-raise\u001b[39;00m\n\u001b[1;32m   3808\u001b[0m     \u001b[38;5;66;03m#  the TypeError.\u001b[39;00m\n\u001b[1;32m   3809\u001b[0m     \u001b[38;5;28mself\u001b[39m\u001b[38;5;241m.\u001b[39m_check_indexing_error(key)\n",
      "\u001b[0;31mKeyError\u001b[0m: 'Crime_Type'"
     ]
    }
   ],
   "source": [
    "df[\"Crime_Category\"] = df[\"Crime_Type\"].apply(lambda x: \"Drug-related\" if \"drugs\" in x.lower() else \"Other\")\n"
   ]
  }
 ],
 "metadata": {
  "kernelspec": {
   "display_name": "Python 3 (ipykernel)",
   "language": "python",
   "name": "python3"
  },
  "language_info": {
   "codemirror_mode": {
    "name": "ipython",
    "version": 3
   },
   "file_extension": ".py",
   "mimetype": "text/x-python",
   "name": "python",
   "nbconvert_exporter": "python",
   "pygments_lexer": "ipython3",
   "version": "3.10.9"
  }
 },
 "nbformat": 4,
 "nbformat_minor": 5
}
